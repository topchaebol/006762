{
  "nbformat": 4,
  "nbformat_minor": 0,
  "metadata": {
    "colab": {
      "name": "0704(4) 텐서플로우 기본 개념.ipynb",
      "version": "0.3.2",
      "provenance": [],
      "collapsed_sections": [],
      "include_colab_link": true
    },
    "kernelspec": {
      "name": "python3",
      "display_name": "Python 3"
    }
  },
  "cells": [
    {
      "cell_type": "markdown",
      "metadata": {
        "id": "view-in-github",
        "colab_type": "text"
      },
      "source": [
        "<a href=\"https://colab.research.google.com/github/topchaebol/006762/blob/master/0704(4)_%ED%85%90%EC%84%9C%ED%94%8C%EB%A1%9C%EC%9A%B0_%EA%B8%B0%EB%B3%B8_%EA%B0%9C%EB%85%90.ipynb\" target=\"_parent\"><img src=\"https://colab.research.google.com/assets/colab-badge.svg\" alt=\"Open In Colab\"/></a>"
      ]
    },
    {
      "cell_type": "markdown",
      "metadata": {
        "id": "KSD3miEnpkav",
        "colab_type": "text"
      },
      "source": [
        "# 1 간단하게 그래프 만들고 실행하기"
      ]
    },
    {
      "cell_type": "code",
      "metadata": {
        "id": "mHfK2maFpmpC",
        "colab_type": "code",
        "colab": {
          "base_uri": "https://localhost:8080/",
          "height": 35
        },
        "outputId": "c8d6a2cb-3771-4632-a95e-7d8f82cac36c"
      },
      "source": [
        "import tensorflow as tf\n",
        "\n",
        "#그래프 생성\n",
        "matrix1 = tf.constant([[3.,3.]])\n",
        "matrix2 = tf.constant([[2.],[2.]])\n",
        "product = tf.matmul(matrix1, matrix2)\n",
        "\n",
        "#그래프 실행\n",
        "sess = tf.Session()\n",
        "result = sess.run(product)\n",
        "sess.close()\n",
        "\n",
        "print(result)"
      ],
      "execution_count": 2,
      "outputs": [
        {
          "output_type": "stream",
          "text": [
            "[[12.]]\n"
          ],
          "name": "stdout"
        }
      ]
    },
    {
      "cell_type": "markdown",
      "metadata": {
        "id": "BdsHPOlsqnAZ",
        "colab_type": "text"
      },
      "source": [
        "# 2 텐서플로우의 상수, 변수, 플레이스 홀더"
      ]
    },
    {
      "cell_type": "code",
      "metadata": {
        "id": "9DcMVfblqvxQ",
        "colab_type": "code",
        "colab": {
          "base_uri": "https://localhost:8080/",
          "height": 35
        },
        "outputId": "9a4f5cf3-3505-47f4-80a7-0fcb3d2df439"
      },
      "source": [
        "input1 = tf.placeholder(tf.float32)\n",
        "input2 = tf.placeholder(tf.float32)\n",
        "output = input1 * input2\n",
        "\n",
        "with tf.Session() as sess:\n",
        "  print(sess.run(output, feed_dict={input1:[7,],\n",
        "                                    input2:[2,]}))"
      ],
      "execution_count": 5,
      "outputs": [
        {
          "output_type": "stream",
          "text": [
            "[14.]\n"
          ],
          "name": "stdout"
        }
      ]
    },
    {
      "cell_type": "markdown",
      "metadata": {
        "id": "Z54KkTSetA1J",
        "colab_type": "text"
      },
      "source": [
        "# 3 텐서플로우를 활용한 단층망 만들기"
      ]
    },
    {
      "cell_type": "code",
      "metadata": {
        "id": "DldJThzbq9tR",
        "colab_type": "code",
        "colab": {
          "base_uri": "https://localhost:8080/",
          "height": 454
        },
        "outputId": "4e159e57-87e0-4b12-af04-f9716ae296b7"
      },
      "source": [
        "from tensorflow.examples.tutorials.mnist import input_data\n",
        "mnist = input_data.read_data_sets(\"MNIST_data/\", one_hot=True)"
      ],
      "execution_count": 6,
      "outputs": [
        {
          "output_type": "stream",
          "text": [
            "WARNING: Logging before flag parsing goes to stderr.\n",
            "W0704 06:39:07.526568 140395907557248 deprecation.py:323] From <ipython-input-6-8bf8ae5a5303>:2: read_data_sets (from tensorflow.contrib.learn.python.learn.datasets.mnist) is deprecated and will be removed in a future version.\n",
            "Instructions for updating:\n",
            "Please use alternatives such as official/mnist/dataset.py from tensorflow/models.\n",
            "W0704 06:39:07.528744 140395907557248 deprecation.py:323] From /usr/local/lib/python3.6/dist-packages/tensorflow/contrib/learn/python/learn/datasets/mnist.py:260: maybe_download (from tensorflow.contrib.learn.python.learn.datasets.base) is deprecated and will be removed in a future version.\n",
            "Instructions for updating:\n",
            "Please write your own downloading logic.\n",
            "W0704 06:39:07.530236 140395907557248 deprecation.py:323] From /usr/local/lib/python3.6/dist-packages/tensorflow/contrib/learn/python/learn/datasets/mnist.py:262: extract_images (from tensorflow.contrib.learn.python.learn.datasets.mnist) is deprecated and will be removed in a future version.\n",
            "Instructions for updating:\n",
            "Please use tf.data to implement this functionality.\n"
          ],
          "name": "stderr"
        },
        {
          "output_type": "stream",
          "text": [
            "Extracting MNIST_data/train-images-idx3-ubyte.gz\n"
          ],
          "name": "stdout"
        },
        {
          "output_type": "stream",
          "text": [
            "W0704 06:39:07.834064 140395907557248 deprecation.py:323] From /usr/local/lib/python3.6/dist-packages/tensorflow/contrib/learn/python/learn/datasets/mnist.py:267: extract_labels (from tensorflow.contrib.learn.python.learn.datasets.mnist) is deprecated and will be removed in a future version.\n",
            "Instructions for updating:\n",
            "Please use tf.data to implement this functionality.\n",
            "W0704 06:39:07.837273 140395907557248 deprecation.py:323] From /usr/local/lib/python3.6/dist-packages/tensorflow/contrib/learn/python/learn/datasets/mnist.py:110: dense_to_one_hot (from tensorflow.contrib.learn.python.learn.datasets.mnist) is deprecated and will be removed in a future version.\n",
            "Instructions for updating:\n",
            "Please use tf.one_hot on tensors.\n",
            "W0704 06:39:07.900908 140395907557248 deprecation.py:323] From /usr/local/lib/python3.6/dist-packages/tensorflow/contrib/learn/python/learn/datasets/mnist.py:290: DataSet.__init__ (from tensorflow.contrib.learn.python.learn.datasets.mnist) is deprecated and will be removed in a future version.\n",
            "Instructions for updating:\n",
            "Please use alternatives such as official/mnist/dataset.py from tensorflow/models.\n"
          ],
          "name": "stderr"
        },
        {
          "output_type": "stream",
          "text": [
            "Extracting MNIST_data/train-labels-idx1-ubyte.gz\n",
            "Extracting MNIST_data/t10k-images-idx3-ubyte.gz\n",
            "Extracting MNIST_data/t10k-labels-idx1-ubyte.gz\n"
          ],
          "name": "stdout"
        }
      ]
    },
    {
      "cell_type": "code",
      "metadata": {
        "id": "IHUl49fgtUhU",
        "colab_type": "code",
        "colab": {}
      },
      "source": [
        "import tensorflow as tf\n",
        "\n",
        "#네트워크에 필요한 변수\n",
        "x = tf.placeholder(tf.float32, [None, 784])\n",
        "W = tf.Variable(tf.zeros([784, 10]))\n",
        "b = tf.Variable(tf.zeros([10]))\n",
        "\n",
        "#네트워크 생성\n",
        "y = tf.nn.softmax(tf.matmul(x, W) + b)\n",
        "y_ = tf.placeholder(tf.float32, [None, 10])\n",
        "\n",
        "#코스트 구하기\n",
        "cross_entropy = tf.reduce_mean(-tf.reduce_sum(y_ * tf.log(y), reduction_indices=[1]))\n",
        "\n",
        "#최적화 알고리즘\n",
        "train_step = tf.train.GradientDescentOptimizer(0.01).minimize(cross_entropy)"
      ],
      "execution_count": 0,
      "outputs": []
    },
    {
      "cell_type": "code",
      "metadata": {
        "id": "I_7ie3tduUTq",
        "colab_type": "code",
        "colab": {
          "base_uri": "https://localhost:8080/",
          "height": 35
        },
        "outputId": "2e63c081-a7d6-4a49-9a36-4dcea851a614"
      },
      "source": [
        "init = tf.global_variables_initializer()\n",
        "with tf.Session() as sess:\n",
        "  sess.run(init)\n",
        "  \n",
        "  for i in range(1000):\n",
        "    batch_xs, batch_ys = mnist.train.next_batch(100)\n",
        "    sess.run(train_step, feed_dict={x:batch_xs,y_:batch_ys})\n",
        "    \n",
        "  # 모델평가(몇 개가 맞았는지 확인)\n",
        "  correct_prediction = tf.equal(tf.argmax(y,1), tf.argmax(y_, 1))\n",
        "  accuracy = tf.reduce_mean(tf.cast(correct_prediction, tf.float32))\n",
        "  print(sess.run(accuracy, feed_dict={x:mnist.test.images, y_:mnist.test.labels}))"
      ],
      "execution_count": 22,
      "outputs": [
        {
          "output_type": "stream",
          "text": [
            "0.8705\n"
          ],
          "name": "stdout"
        }
      ]
    },
    {
      "cell_type": "markdown",
      "metadata": {
        "id": "szG4r96pCyDL",
        "colab_type": "text"
      },
      "source": [
        "숙제다"
      ]
    },
    {
      "cell_type": "code",
      "metadata": {
        "id": "qj3EUVjuxRQ5",
        "colab_type": "code",
        "colab": {}
      },
      "source": [
        "import tensorflow as tf\n",
        "\n",
        "#네트워크에 필요한 변수\n",
        "x = tf.placeholder(tf.float32, [None, 784])\n",
        "W = tf.Variable(tf.zeros([784, 10]))\n",
        "b = tf.Variable(tf.zeros([10]))\n",
        "\n",
        "#네트워크 생성\n",
        "y = tf.nn.softmax(tf.matmul(x, W) + b)\n",
        "y_ = tf.placeholder(tf.float32, [None, 10])\n",
        "\n",
        "#코스트 구하기\n",
        "cross_entropy = tf.reduce_mean(-tf.reduce_sum(y_ * tf.log(y), reduction_indices=[1]))\n",
        "\n",
        "#최적화 알고리즘\n",
        "train_step = tf.train.GradientDescentOptimizer(0.01).minimize(cross_entropy)"
      ],
      "execution_count": 0,
      "outputs": []
    },
    {
      "cell_type": "code",
      "metadata": {
        "id": "jzIIItixC0nn",
        "colab_type": "code",
        "colab": {
          "base_uri": "https://localhost:8080/",
          "height": 561
        },
        "outputId": "fcfee728-e7bc-49dc-acd5-e157127887c4"
      },
      "source": [
        "init = tf.global_variables_initializer()\n",
        "with tf.Session() as sess:\n",
        "  sess.run(init)\n",
        "  \n",
        "  for i in range(3000):\n",
        "    batch_xs, batch_ys = mnist.train.next_batch(16)\n",
        "    sess.run(train_step, feed_dict={x:batch_xs,y_:batch_ys}) \n",
        "    if (i % 100) == 0 :\n",
        "      #100번 마다 정확률 출력\n",
        "      # 모델평가(몇 개가 맞았는지 확인)\n",
        "      correct_prediction = tf.equal(tf.argmax(y,1), tf.argmax(y_, 1))\n",
        "      print(sess.run(accuracy, feed_dict={x:mnist.test.images, y_:mnist.test.labels}))\n",
        "      accuracy = tf.reduce_mean(tf.cast(correct_prediction, tf.float32))\n",
        " "
      ],
      "execution_count": 30,
      "outputs": [
        {
          "output_type": "stream",
          "text": [
            "0.2648\n",
            "0.7304\n",
            "0.7981\n",
            "0.8258\n",
            "0.8461\n",
            "0.8483\n",
            "0.8545\n",
            "0.8582\n",
            "0.8678\n",
            "0.8668\n",
            "0.8718\n",
            "0.874\n",
            "0.8749\n",
            "0.877\n",
            "0.8775\n",
            "0.8794\n",
            "0.8797\n",
            "0.8821\n",
            "0.8842\n",
            "0.8834\n",
            "0.8866\n",
            "0.8828\n",
            "0.8876\n",
            "0.8862\n",
            "0.8896\n",
            "0.89\n",
            "0.8893\n",
            "0.8914\n",
            "0.8899\n",
            "0.8916\n"
          ],
          "name": "stdout"
        }
      ]
    },
    {
      "cell_type": "code",
      "metadata": {
        "id": "3sSk7vV5C3l9",
        "colab_type": "code",
        "colab": {}
      },
      "source": [
        ""
      ],
      "execution_count": 0,
      "outputs": []
    }
  ]
}