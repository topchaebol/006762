{
  "nbformat": 4,
  "nbformat_minor": 0,
  "metadata": {
    "colab": {
      "name": "0704딥러닝수업1.ipynb",
      "version": "0.3.2",
      "provenance": [],
      "collapsed_sections": [],
      "include_colab_link": true
    },
    "kernelspec": {
      "name": "python3",
      "display_name": "Python 3"
    }
  },
  "cells": [
    {
      "cell_type": "markdown",
      "metadata": {
        "id": "view-in-github",
        "colab_type": "text"
      },
      "source": [
        "<a href=\"https://colab.research.google.com/github/topchaebol/006762/blob/master/0704%EB%94%A5%EB%9F%AC%EB%8B%9D%EC%88%98%EC%97%851.ipynb\" target=\"_parent\"><img src=\"https://colab.research.google.com/assets/colab-badge.svg\" alt=\"Open In Colab\"/></a>"
      ]
    },
    {
      "cell_type": "code",
      "metadata": {
        "id": "Suon28N3Vctj",
        "colab_type": "code",
        "colab": {
          "base_uri": "https://localhost:8080/",
          "height": 245
        },
        "outputId": "3ac67724-151f-4385-d0cf-6ab55acc304f"
      },
      "source": [
        "def sigmoid_prime(x):\n",
        "  return x*(1-x)\n",
        "input1 = np.array([np.arange(4), np.arange(4)])\n",
        "\n",
        "#4x3x2 레이어 구현\n",
        "n_records, n_inputs = input1.shape\n",
        "n_hidden = 3\n",
        "n_output =2 \n",
        "\n",
        "#가중치 초기화\n",
        "weights_input_to_hidden = np.random.normal(0,\n",
        "                                          n_inputs**-0.5,\n",
        "                                          size=(n_input, n_hidden)) # 4x3\n",
        "weights_hidden_to_output = np.random.normal(0,\n",
        "                                          n_inputs**-0.5,\n",
        "                                          size=(n_hidden, n_output)) # 3x2\n",
        "\n",
        "#네트워크 구현 \n",
        "\n"
      ],
      "execution_count": 13,
      "outputs": [
        {
          "output_type": "error",
          "ename": "NameError",
          "evalue": "ignored",
          "traceback": [
            "\u001b[0;31m---------------------------------------------------------------------------\u001b[0m",
            "\u001b[0;31mNameError\u001b[0m                                 Traceback (most recent call last)",
            "\u001b[0;32m<ipython-input-13-be49ed6ccc03>\u001b[0m in \u001b[0;36m<module>\u001b[0;34m()\u001b[0m\n\u001b[1;32m     11\u001b[0m weights_input_to_hidden = np.random.normal(0,\n\u001b[1;32m     12\u001b[0m                                           \u001b[0mn_inputs\u001b[0m\u001b[0;34m**\u001b[0m\u001b[0;34m-\u001b[0m\u001b[0;36m0.5\u001b[0m\u001b[0;34m,\u001b[0m\u001b[0;34m\u001b[0m\u001b[0;34m\u001b[0m\u001b[0m\n\u001b[0;32m---> 13\u001b[0;31m                                           size=(n_input, n_hidden)) # 4x3\n\u001b[0m\u001b[1;32m     14\u001b[0m weights_hidden_to_output = np.random.normal(0,\n\u001b[1;32m     15\u001b[0m                                           \u001b[0mn_inputs\u001b[0m\u001b[0;34m**\u001b[0m\u001b[0;34m-\u001b[0m\u001b[0;36m0.5\u001b[0m\u001b[0;34m,\u001b[0m\u001b[0;34m\u001b[0m\u001b[0;34m\u001b[0m\u001b[0m\n",
            "\u001b[0;31mNameError\u001b[0m: name 'n_input' is not defined"
          ]
        }
      ]
    },
    {
      "cell_type": "code",
      "metadata": {
        "id": "e72msjCrbKQg",
        "colab_type": "code",
        "colab": {
          "base_uri": "https://localhost:8080/",
          "height": 245
        },
        "outputId": "5893afd0-6805-4181-95de-9d25e640c5b0"
      },
      "source": [
        "for i in range(2):\n",
        "  learning_rate = 0.5\n",
        "  err = y[i] - _y[i]\n",
        "  err_term = err * sigmoid_prime(_y[i])\n",
        "  print(\"err_term:\", err_term)\n",
        "\n",
        "  hidden_err_term = np.dot(weights_hidden_to_output, err_term[i] *sigmoid_prime(_y[i]))\n",
        "  print(\"hidden_err_term:\", hidden_err_term)\n",
        "  \n",
        "  del_w = learning_rate * np.dot(err_term.reshape(2,1) * hidden1[i].reshape(1,3))\n",
        "  del_w_h = learning_rate * np.dot(hidden_err_term.reshape(3,1) * input1[i].reshape(1,4))\n",
        "  \n",
        "  print(\"del_w:\", del_w)\n",
        "  print(\"del_w_h:\", del_w_h)"
      ],
      "execution_count": 14,
      "outputs": [
        {
          "output_type": "error",
          "ename": "NameError",
          "evalue": "ignored",
          "traceback": [
            "\u001b[0;31m---------------------------------------------------------------------------\u001b[0m",
            "\u001b[0;31mNameError\u001b[0m                                 Traceback (most recent call last)",
            "\u001b[0;32m<ipython-input-14-13e404ed6a54>\u001b[0m in \u001b[0;36m<module>\u001b[0;34m()\u001b[0m\n\u001b[1;32m      1\u001b[0m \u001b[0;32mfor\u001b[0m \u001b[0mi\u001b[0m \u001b[0;32min\u001b[0m \u001b[0mrange\u001b[0m\u001b[0;34m(\u001b[0m\u001b[0;36m2\u001b[0m\u001b[0;34m)\u001b[0m\u001b[0;34m:\u001b[0m\u001b[0;34m\u001b[0m\u001b[0;34m\u001b[0m\u001b[0m\n\u001b[1;32m      2\u001b[0m   \u001b[0mlearning_rate\u001b[0m \u001b[0;34m=\u001b[0m \u001b[0;36m0.5\u001b[0m\u001b[0;34m\u001b[0m\u001b[0;34m\u001b[0m\u001b[0m\n\u001b[0;32m----> 3\u001b[0;31m   \u001b[0merr\u001b[0m \u001b[0;34m=\u001b[0m \u001b[0my\u001b[0m\u001b[0;34m[\u001b[0m\u001b[0mi\u001b[0m\u001b[0;34m]\u001b[0m \u001b[0;34m-\u001b[0m \u001b[0m_y\u001b[0m\u001b[0;34m[\u001b[0m\u001b[0mi\u001b[0m\u001b[0;34m]\u001b[0m\u001b[0;34m\u001b[0m\u001b[0;34m\u001b[0m\u001b[0m\n\u001b[0m\u001b[1;32m      4\u001b[0m   \u001b[0merr_term\u001b[0m \u001b[0;34m=\u001b[0m \u001b[0merr\u001b[0m \u001b[0;34m*\u001b[0m \u001b[0msigmoid_prime\u001b[0m\u001b[0;34m(\u001b[0m\u001b[0m_y\u001b[0m\u001b[0;34m[\u001b[0m\u001b[0mi\u001b[0m\u001b[0;34m]\u001b[0m\u001b[0;34m)\u001b[0m\u001b[0;34m\u001b[0m\u001b[0;34m\u001b[0m\u001b[0m\n\u001b[1;32m      5\u001b[0m   \u001b[0mprint\u001b[0m\u001b[0;34m(\u001b[0m\u001b[0;34m\"err_term:\"\u001b[0m\u001b[0;34m,\u001b[0m \u001b[0merr_term\u001b[0m\u001b[0;34m)\u001b[0m\u001b[0;34m\u001b[0m\u001b[0;34m\u001b[0m\u001b[0m\n",
            "\u001b[0;31mNameError\u001b[0m: name 'y' is not defined"
          ]
        }
      ]
    },
    {
      "cell_type": "code",
      "metadata": {
        "id": "KMQf0yhjkgvD",
        "colab_type": "code",
        "colab": {
          "base_uri": "https://localhost:8080/",
          "height": 287
        },
        "outputId": "97a16da9-744f-4aec-b1ba-75e298d89093"
      },
      "source": [
        "import numpy as np\n",
        "import matplotlib.pyplot as plt\n",
        "def sigmoid(x):\n",
        "  return 1/(1+np.exp(-x))\n",
        "x = np.arange(-10,10,0.1)\n",
        "plt.plot(x, sigmoid(x))\n",
        "plt.show()\n",
        "\n",
        "def sigmoid_prime(x) :\n",
        "  return sigmoid(x) * (1-sigmoid(x))\n",
        "sigmoid_prime(0.7)"
      ],
      "execution_count": 19,
      "outputs": [
        {
          "output_type": "display_data",
          "data": {
            "image/png": "[encoded data removed]",
            "text/plain": [
              "<Figure size 432x288 with 1 Axes>"
            ]
          },
          "metadata": {
            "tags": []
          }
        },
        {
          "output_type": "execute_result",
          "data": {
            "text/plain": [
              "0.22171287329310904"
            ]
          },
          "metadata": {
            "tags": []
          },
          "execution_count": 19
        }
      ]
    },
    {
      "cell_type": "code",
      "metadata": {
        "id": "Uxjb0NIjm5Wd",
        "colab_type": "code",
        "colab": {}
      },
      "source": [
        ""
      ],
      "execution_count": 0,
      "outputs": []
    }
  ]
}