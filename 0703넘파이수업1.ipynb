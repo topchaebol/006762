{
  "nbformat": 4,
  "nbformat_minor": 0,
  "metadata": {
    "colab": {
      "name": "0703넘파이수업1.ipynb",
      "version": "0.3.2",
      "provenance": [],
      "collapsed_sections": [],
      "include_colab_link": true
    },
    "kernelspec": {
      "name": "python3",
      "display_name": "Python 3"
    }
  },
  "cells": [
    {
      "cell_type": "markdown",
      "metadata": {
        "id": "view-in-github",
        "colab_type": "text"
      },
      "source": [
        "<a href=\"https://colab.research.google.com/github/topchaebol/006762/blob/master/0703%EB%84%98%ED%8C%8C%EC%9D%B4%EC%88%98%EC%97%851.ipynb\" target=\"_parent\"><img src=\"https://colab.research.google.com/assets/colab-badge.svg\" alt=\"Open In Colab\"/></a>"
      ]
    },
    {
      "cell_type": "code",
      "metadata": {
        "id": "y4Ff0xXTfY40",
        "colab_type": "code",
        "colab": {
          "base_uri": "https://localhost:8080/",
          "height": 53
        },
        "outputId": "c0058c72-ace7-415b-dda4-c39508376412"
      },
      "source": [
        "import numpy as np\n",
        "a = np.array([1,2])\n",
        "b = np.array([[3,5],[4,6]])\n",
        "a, b"
      ],
      "execution_count": 1,
      "outputs": [
        {
          "output_type": "execute_result",
          "data": {
            "text/plain": [
              "(array([1, 2]), array([[3, 5],\n",
              "        [4, 7]]))"
            ]
          },
          "metadata": {
            "tags": []
          },
          "execution_count": 1
        }
      ]
    },
    {
      "cell_type": "code",
      "metadata": {
        "id": "ikqqA5vifl8o",
        "colab_type": "code",
        "colab": {
          "base_uri": "https://localhost:8080/",
          "height": 35
        },
        "outputId": "3c6e544e-257b-4eaf-b3e9-f1b4e1aa8e7e"
      },
      "source": [
        "np.dot(a, b)"
      ],
      "execution_count": 3,
      "outputs": [
        {
          "output_type": "execute_result",
          "data": {
            "text/plain": [
              "array([11, 19])"
            ]
          },
          "metadata": {
            "tags": []
          },
          "execution_count": 3
        }
      ]
    },
    {
      "cell_type": "markdown",
      "metadata": {
        "id": "YV1jR0yGgiV5",
        "colab_type": "text"
      },
      "source": [
        "# 2. AND 연산 퍼셉트론"
      ]
    },
    {
      "cell_type": "code",
      "metadata": {
        "id": "DyP2LJTeiZLY",
        "colab_type": "code",
        "colab": {}
      },
      "source": [
        "def step(x) :\n",
        "  if x >= 0:\n",
        "    return 1\n",
        "  else :\n",
        "    return 0"
      ],
      "execution_count": 0,
      "outputs": []
    },
    {
      "cell_type": "code",
      "metadata": {
        "id": "0EEGaR_1gkvA",
        "colab_type": "code",
        "colab": {
          "base_uri": "https://localhost:8080/",
          "height": 89
        },
        "outputId": "c6ea1c13-6b34-4115-a304-e23503cffe86"
      },
      "source": [
        "# 1 and 1\n",
        "# 1 and 0\n",
        "# 0 and 1\n",
        "# 0 and 0 \n",
        "def and_step(a,b):\n",
        "  w1 = 1\n",
        "  w2 = 1 \n",
        "  bias = -1.5\n",
        "  y = w1 * a + w2 * b + bias \n",
        "  return step(y)\n",
        "\n",
        "print(1, 'and', 1, '=', and_step(1,1))\n",
        "print(1, 'and', 0, '=', and_step(1,0))\n",
        "print(1, 'and', 0, '=', and_step(0,1))\n",
        "print(1, 'and', 0, '=', and_step(0,0))"
      ],
      "execution_count": 14,
      "outputs": [
        {
          "output_type": "stream",
          "text": [
            "1 and 1 = 1\n",
            "1 and 0 = 0\n",
            "1 and 0 = 0\n",
            "1 and 0 = 0\n"
          ],
          "name": "stdout"
        }
      ]
    },
    {
      "cell_type": "code",
      "metadata": {
        "id": "SVm3TphBgmcA",
        "colab_type": "code",
        "colab": {}
      },
      "source": [
        ""
      ],
      "execution_count": 0,
      "outputs": []
    }
  ]
}