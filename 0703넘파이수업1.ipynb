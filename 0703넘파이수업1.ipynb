{
  "nbformat": 4,
  "nbformat_minor": 0,
  "metadata": {
    "colab": {
      "name": "0703넘파이수업1.ipynb",
      "version": "0.3.2",
      "provenance": [],
      "collapsed_sections": [],
      "include_colab_link": true
    },
    "kernelspec": {
      "name": "python3",
      "display_name": "Python 3"
    }
  },
  "cells": [
    {
      "cell_type": "markdown",
      "metadata": {
        "id": "view-in-github",
        "colab_type": "text"
      },
      "source": [
        "<a href=\"https://colab.research.google.com/github/topchaebol/006762/blob/master/0703%EB%84%98%ED%8C%8C%EC%9D%B4%EC%88%98%EC%97%851.ipynb\" target=\"_parent\"><img src=\"https://colab.research.google.com/assets/colab-badge.svg\" alt=\"Open In Colab\"/></a>"
      ]
    },
    {
      "cell_type": "code",
      "metadata": {
        "id": "y4Ff0xXTfY40",
        "colab_type": "code",
        "colab": {
          "base_uri": "https://localhost:8080/",
          "height": 53
        },
        "outputId": "c0058c72-ace7-415b-dda4-c39508376412"
      },
      "source": [
        "import numpy as np\n",
        "a = np.array([1,2])\n",
        "b = np.array([[3,5],[4,6]])\n",
        "a, b"
      ],
      "execution_count": 1,
      "outputs": [
        {
          "output_type": "execute_result",
          "data": {
            "text/plain": [
              "(array([1, 2]), array([[3, 5],\n",
              "        [4, 7]]))"
            ]
          },
          "metadata": {
            "tags": []
          },
          "execution_count": 1
        }
      ]
    },
    {
      "cell_type": "code",
      "metadata": {
        "id": "ikqqA5vifl8o",
        "colab_type": "code",
        "colab": {
          "base_uri": "https://localhost:8080/",
          "height": 35
        },
        "outputId": "3c6e544e-257b-4eaf-b3e9-f1b4e1aa8e7e"
      },
      "source": [
        "np.dot(a, b)"
      ],
      "execution_count": 3,
      "outputs": [
        {
          "output_type": "execute_result",
          "data": {
            "text/plain": [
              "array([11, 19])"
            ]
          },
          "metadata": {
            "tags": []
          },
          "execution_count": 3
        }
      ]
    },
    {
      "cell_type": "markdown",
      "metadata": {
        "id": "YV1jR0yGgiV5",
        "colab_type": "text"
      },
      "source": [
        "# 2. AND 연산 퍼셉트론"
      ]
    },
    {
      "cell_type": "code",
      "metadata": {
        "id": "DyP2LJTeiZLY",
        "colab_type": "code",
        "colab": {}
      },
      "source": [
        "def step(x) :\n",
        "  if x >= 0:\n",
        "    return 1\n",
        "  else :\n",
        "    return 0"
      ],
      "execution_count": 0,
      "outputs": []
    },
    {
      "cell_type": "code",
      "metadata": {
        "id": "0EEGaR_1gkvA",
        "colab_type": "code",
        "colab": {
          "base_uri": "https://localhost:8080/",
          "height": 89
        },
        "outputId": "c6ea1c13-6b34-4115-a304-e23503cffe86"
      },
      "source": [
        "# 1 and 1\n",
        "# 1 and 0\n",
        "# 0 and 1\n",
        "# 0 and 0 \n",
        "def and_step(a,b):\n",
        "  w1 = 1\n",
        "  w2 = 1 \n",
        "  bias = -1.5\n",
        "  y = w1 * a + w2 * b + bias \n",
        "  return step(y)\n",
        "\n",
        "print(1, 'and', 1, '=', and_step(1,1))\n",
        "print(1, 'and', 0, '=', and_step(1,0))\n",
        "print(1, 'and', 0, '=', and_step(0,1))\n",
        "print(1, 'and', 0, '=', and_step(0,0))"
      ],
      "execution_count": 14,
      "outputs": [
        {
          "output_type": "stream",
          "text": [
            "1 and 1 = 1\n",
            "1 and 0 = 0\n",
            "1 and 0 = 0\n",
            "1 and 0 = 0\n"
          ],
          "name": "stdout"
        }
      ]
    },
    {
      "cell_type": "code",
      "metadata": {
        "id": "SVm3TphBgmcA",
        "colab_type": "code",
        "colab": {}
      },
      "source": [
        "def step(x) :\n",
        "  if x >= 0:\n",
        "    return 1\n",
        "  else :\n",
        "    return 0\n",
        "# 1 and 1\n",
        "# 1 and 0\n",
        "# 0 and 1\n",
        "# 0 and 0 \n",
        "def and_step(a,b):\n",
        "  w1 = 1\n",
        "  w2 = 1 \n",
        "  bias = -1.5\n",
        "  y = w1 * a + w2 * b + bias \n",
        "  return step(y)\n",
        "\n",
        "print(1, 'and', 1, '=', and_step(1,1))\n",
        "print(1, 'and', 0, '=', and_step(1,0))\n",
        "print(1, 'and', 0, '=', and_step(0,1))\n",
        "print(1, 'and', 0, '=', and_step(0,0))"
      ],
      "execution_count": 0,
      "outputs": []
    },
    {
      "cell_type": "code",
      "metadata": {
        "id": "4jvs80dXjhUa",
        "colab_type": "code",
        "colab": {}
      },
      "source": [
        "def _not(x) :\n",
        "  if x == 1:\n",
        "    return 0\n",
        "  else :\n",
        "    return 1\n",
        "  print(\"not({}) = {}\", format(1, _not(1)))\n",
        "  print(\"not({}) = {}\", format(1, _not(0)))"
      ],
      "execution_count": 0,
      "outputs": []
    },
    {
      "cell_type": "code",
      "metadata": {
        "id": "3KdmfS9sj0IT",
        "colab_type": "code",
        "colab": {}
      },
      "source": [
        ""
      ],
      "execution_count": 0,
      "outputs": []
    },
    {
      "cell_type": "code",
      "metadata": {
        "id": "nPdYhtxOk_wD",
        "colab_type": "code",
        "colab": {}
      },
      "source": [
        ""
      ],
      "execution_count": 0,
      "outputs": []
    },
    {
      "cell_type": "markdown",
      "metadata": {
        "id": "0UjUNLdDmbB1",
        "colab_type": "text"
      },
      "source": [
        "# 3. XOR 퍼셉트론 만들기"
      ]
    },
    {
      "cell_type": "code",
      "metadata": {
        "id": "KjU-O70GnJgk",
        "colab_type": "code",
        "colab": {}
      },
      "source": [
        "def _xor(a,b):\n",
        "  return and_step(_not)"
      ],
      "execution_count": 0,
      "outputs": []
    },
    {
      "cell_type": "markdown",
      "metadata": {
        "id": "9gWHWyMr-rM9",
        "colab_type": "text"
      },
      "source": [
        "# 4. 활성화 함수\n",
        " ## 1) 스텝함수"
      ]
    },
    {
      "cell_type": "code",
      "metadata": {
        "id": "Ns52E2GF-tFc",
        "colab_type": "code",
        "colab": {}
      },
      "source": [
        "import numpy as np\n",
        "def step(x): \n",
        "  if x >= 0 :\n",
        "    return 1\n",
        "  return 0\n",
        "\n",
        "arr1 = np.arange(-10, 10, 0.1)"
      ],
      "execution_count": 0,
      "outputs": []
    },
    {
      "cell_type": "code",
      "metadata": {
        "id": "dQ3XhEEO-36O",
        "colab_type": "code",
        "colab": {}
      },
      "source": [
        "arr1"
      ],
      "execution_count": 0,
      "outputs": []
    },
    {
      "cell_type": "code",
      "metadata": {
        "id": "5dozK07Z_PDC",
        "colab_type": "code",
        "colab": {}
      },
      "source": [
        "for x in arr1:\n",
        "  print(step(x))"
      ],
      "execution_count": 0,
      "outputs": []
    },
    {
      "cell_type": "code",
      "metadata": {
        "id": "3eavCcFz_mJh",
        "colab_type": "code",
        "colab": {}
      },
      "source": [
        "y = [step(x) for x in arr1]\n",
        "print(y.count(0))\n",
        "print(y.count(0))"
      ],
      "execution_count": 0,
      "outputs": []
    },
    {
      "cell_type": "code",
      "metadata": {
        "id": "JGFhNB9E_wkr",
        "colab_type": "code",
        "colab": {
          "base_uri": "https://localhost:8080/",
          "height": 287
        },
        "outputId": "ef2b4489-370e-46f6-ea14-4adac556afed"
      },
      "source": [
        "import matplotlib.pyplot as plt\n",
        "plt.plot(arr1, y)"
      ],
      "execution_count": 47,
      "outputs": [
        {
          "output_type": "execute_result",
          "data": {
            "text/plain": [
              "[<matplotlib.lines.Line2D at 0x7f831ba63048>]"
            ]
          },
          "metadata": {
            "tags": []
          },
          "execution_count": 47
        },
        {
          "output_type": "display_data",
          "data": {
            "image/png": "[encoded data removed]",
            "text/plain": [
              "<Figure size 432x288 with 1 Axes>"
            ]
          },
          "metadata": {
            "tags": []
          }
        }
      ]
    },
    {
      "cell_type": "code",
      "metadata": {
        "id": "io7VqkLwAE55",
        "colab_type": "code",
        "colab": {}
      },
      "source": [
        ""
      ],
      "execution_count": 0,
      "outputs": []
    }
  ]
}