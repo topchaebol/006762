{
  "nbformat": 4,
  "nbformat_minor": 0,
  "metadata": {
    "colab": {
      "name": "8. RNN을 활용한 코드 작성.ipynb의 사본",
      "version": "0.3.2",
      "provenance": [],
      "collapsed_sections": [],
      "include_colab_link": true
    },
    "kernelspec": {
      "name": "python3",
      "display_name": "Python 3"
    }
  },
  "cells": [
    {
      "cell_type": "markdown",
      "metadata": {
        "id": "view-in-github",
        "colab_type": "text"
      },
      "source": [
        "<a href=\"https://colab.research.google.com/github/topchaebol/006762/blob/master/8_RNN%EC%9D%84_%ED%99%9C%EC%9A%A9%ED%95%9C_%EC%BD%94%EB%93%9C_%EC%9E%91%EC%84%B1_ipynb%EC%9D%98_%EC%82%AC%EB%B3%B8.ipynb\" target=\"_parent\"><img src=\"https://colab.research.google.com/assets/colab-badge.svg\" alt=\"Open In Colab\"/></a>"
      ]
    },
    {
      "cell_type": "code",
      "metadata": {
        "id": "r8KpNAuX_6hW",
        "colab_type": "code",
        "colab": {}
      },
      "source": [
        "from keras.preprocessing import sequence\n",
        "from keras.datasets import imdb\n",
        "from keras import layers, models\n",
        "import numpy as np\n",
        "\n",
        "class Data:\n",
        "  def __init__(self, max_features=20000, maxlen=80):\n",
        "    np_load_old = np.load\n",
        "    np.load = lambda *a,**k: np_load_old(*a, allow_pickle=True, **k)\n",
        "    (x_train, y_train), (x_test, y_test) = imdb.load_data(num_words=max_features)\n",
        "    np.load = np_load_old\n",
        "    \n",
        "    x_train = sequence.pad_sequences(x_train, maxlen=maxlen)\n",
        "    x_test = sequence.pad_sequences(x_test, maxlen=maxlen)\n",
        "    self.x_train, self.y_train = x_train, y_train\n",
        "    self.x_test, self.y_test = x_test, y_test\n"
      ],
      "execution_count": 0,
      "outputs": []
    },
    {
      "cell_type": "code",
      "metadata": {
        "id": "X-yBOeEBA4Da",
        "colab_type": "code",
        "colab": {}
      },
      "source": [
        "\n",
        "data = Data()"
      ],
      "execution_count": 0,
      "outputs": []
    },
    {
      "cell_type": "code",
      "metadata": {
        "id": "Mac_36tgBDtZ",
        "colab_type": "code",
        "colab": {}
      },
      "source": [
        "data.x_train[0]"
      ],
      "execution_count": 0,
      "outputs": []
    },
    {
      "cell_type": "markdown",
      "metadata": {
        "id": "LyOG2uc5C7m9",
        "colab_type": "text"
      },
      "source": [
        ""
      ]
    },
    {
      "cell_type": "code",
      "metadata": {
        "id": "YIZ3YFPoCCA0",
        "colab_type": "code",
        "colab": {}
      },
      "source": [
        "class RNN_LSTM(models.Model):\n",
        "  def __init__(self, max_features, maxlen):\n",
        "    x = layers.Input((maxlen,))\n",
        "    h = layers.Embedding(max_features, 128)(x)\n",
        "    h = layers.LSTM(128, dropout=0.2, recurrent_dropout=0.2)(h)\n",
        "    y = layers.Dense(1, activation='sigmoid')(h)\n",
        "    super().__init__(x, y)\n",
        "    \n",
        "    self.compile(loss=\"binary_crossentropy\",\n",
        "                optimizer=\"adam\", metrics=['accuracy'])\n",
        "    \n",
        "class Machine:\n",
        "  def __init__(self, max_features=20000, maxlen=80):\n",
        "    self.data = Data(max_features, maxlen)\n",
        "    self.model = RNN_LSTM(max_features, maxlen)\n",
        "    \n",
        "  def run(self, epochs=3, batch_size=32):\n",
        "    data = self.data\n",
        "    model = self.model\n",
        "    print(\"Train stage\")\n",
        "    print(\"=\" * 10)\n",
        "    \n",
        "    model.fit(data.x_train, data.y_train,\n",
        "             batch_size = batch_size,\n",
        "             epochs = epochs,\n",
        "             validation_data = (data.x_test, data.y_test)\n",
        "             )\n",
        "    score, acc = model.evalute(data.x_test, data.y_test,\n",
        "                              batch_size = batch_size)\n",
        "    \n",
        "    print(\"acc: {}, loss: {}\".format(acc,score))\n",
        "    ## shorturl.at/dRT35"
      ],
      "execution_count": 0,
      "outputs": []
    },
    {
      "cell_type": "code",
      "metadata": {
        "id": "uKSUD4GZEGIS",
        "colab_type": "code",
        "outputId": "94abb239-efe6-4c7b-9854-c151f8347d02",
        "colab": {
          "base_uri": "https://localhost:8080/",
          "height": 355
        }
      },
      "source": [
        "m = Machine()\n",
        "m.run()"
      ],
      "execution_count": 0,
      "outputs": [
        {
          "output_type": "stream",
          "text": [
            "W0705 07:38:24.461016 140419179399040 deprecation_wrapper.py:119] From /usr/local/lib/python3.6/dist-packages/keras/backend/tensorflow_backend.py:133: The name tf.placeholder_with_default is deprecated. Please use tf.compat.v1.placeholder_with_default instead.\n",
            "\n",
            "W0705 07:38:24.475917 140419179399040 deprecation.py:506] From /usr/local/lib/python3.6/dist-packages/keras/backend/tensorflow_backend.py:3445: calling dropout (from tensorflow.python.ops.nn_ops) with keep_prob is deprecated and will be removed in a future version.\n",
            "Instructions for updating:\n",
            "Please use `rate` instead of `keep_prob`. Rate should be set to `rate = 1 - keep_prob`.\n",
            "W0705 07:38:24.766057 140419179399040 deprecation_wrapper.py:119] From /usr/local/lib/python3.6/dist-packages/keras/optimizers.py:790: The name tf.train.Optimizer is deprecated. Please use tf.compat.v1.train.Optimizer instead.\n",
            "\n",
            "W0705 07:38:24.788528 140419179399040 deprecation_wrapper.py:119] From /usr/local/lib/python3.6/dist-packages/keras/backend/tensorflow_backend.py:3376: The name tf.log is deprecated. Please use tf.math.log instead.\n",
            "\n",
            "W0705 07:38:24.795802 140419179399040 deprecation.py:323] From /usr/local/lib/python3.6/dist-packages/tensorflow/python/ops/nn_impl.py:180: add_dispatch_support.<locals>.wrapper (from tensorflow.python.ops.array_ops) is deprecated and will be removed in a future version.\n",
            "Instructions for updating:\n",
            "Use tf.where in 2.0, which has the same broadcast rule as np.where\n"
          ],
          "name": "stderr"
        },
        {
          "output_type": "stream",
          "text": [
            "Train stage\n",
            "==========\n",
            "Train on 25000 samples, validate on 25000 samples\n",
            "Epoch 1/3\n",
            "15168/25000 [=================>............] - ETA: 50s - loss: 0.4879 - acc: 0.7625"
          ],
          "name": "stdout"
        }
      ]
    },
    {
      "cell_type": "code",
      "metadata": {
        "id": "WjTrFNGPENXD",
        "colab_type": "code",
        "colab": {}
      },
      "source": [
        ""
      ],
      "execution_count": 0,
      "outputs": []
    }
  ]
}