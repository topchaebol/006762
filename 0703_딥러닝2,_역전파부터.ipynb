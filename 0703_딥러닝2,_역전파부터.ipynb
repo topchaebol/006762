{
  "nbformat": 4,
  "nbformat_minor": 0,
  "metadata": {
    "colab": {
      "name": "0703 딥러닝2, 역전파부터.ipynb",
      "version": "0.3.2",
      "provenance": [],
      "collapsed_sections": [],
      "include_colab_link": true
    },
    "kernelspec": {
      "name": "python3",
      "display_name": "Python 3"
    }
  },
  "cells": [
    {
      "cell_type": "markdown",
      "metadata": {
        "id": "view-in-github",
        "colab_type": "text"
      },
      "source": [
        "<a href=\"https://colab.research.google.com/github/topchaebol/006762/blob/master/0703_%EB%94%A5%EB%9F%AC%EB%8B%9D2%2C_%EC%97%AD%EC%A0%84%ED%8C%8C%EB%B6%80%ED%84%B0.ipynb\" target=\"_parent\"><img src=\"https://colab.research.google.com/assets/colab-badge.svg\" alt=\"Open In Colab\"/></a>"
      ]
    },
    {
      "cell_type": "code",
      "metadata": {
        "id": "T9Fknpxio0j5",
        "colab_type": "code",
        "colab": {}
      },
      "source": [
        ""
      ],
      "execution_count": 0,
      "outputs": []
    },
    {
      "cell_type": "markdown",
      "metadata": {
        "id": "7heS0M0wv1uj",
        "colab_type": "text"
      },
      "source": [
        "# 멀티 레이어 신경망 구성"
      ]
    },
    {
      "cell_type": "code",
      "metadata": {
        "id": "jAgHstZNv4B6",
        "colab_type": "code",
        "colab": {
          "base_uri": "https://localhost:8080/",
          "height": 53
        },
        "outputId": "634daf67-632b-408a-eced-e0706002db68"
      },
      "source": [
        "import numpy as np\n",
        "def sigmoid(x):\n",
        "  return 1/(1+np.exp(-x))\n",
        "def sigmoid_prime(x): \n",
        "  return x * (1-x) \n",
        "input1 = np.array([np.arange(4), np.arange(4)])\n",
        "input1"
      ],
      "execution_count": 1,
      "outputs": [
        {
          "output_type": "execute_result",
          "data": {
            "text/plain": [
              "array([[0, 1, 2, 3],\n",
              "       [0, 1, 2, 3]])"
            ]
          },
          "metadata": {
            "tags": []
          },
          "execution_count": 1
        }
      ]
    },
    {
      "cell_type": "code",
      "metadata": {
        "id": "oWfvqLopwPeq",
        "colab_type": "code",
        "colab": {
          "base_uri": "https://localhost:8080/",
          "height": 89
        },
        "outputId": "42923da0-ff48-4e3f-894d-6de58378d6fd"
      },
      "source": [
        "# 4x3x2 레이어 구현\n",
        "n_records, n_inputs = input1.shape\n",
        "n_hidden = 3\n",
        "\n",
        "# 가중치 초기화\n",
        "np.random.normal(0, n_inputs** -0.5, size=(n_inputs, n_hidden))"
      ],
      "execution_count": 2,
      "outputs": [
        {
          "output_type": "execute_result",
          "data": {
            "text/plain": [
              "array([[-0.01640175, -0.14779957, -0.52419177],\n",
              "       [ 1.07369402, -0.22917954, -0.33511522],\n",
              "       [ 0.93678152,  0.31525853,  0.4598855 ],\n",
              "       [-0.73643525, -0.19307675,  0.14352821]])"
            ]
          },
          "metadata": {
            "tags": []
          },
          "execution_count": 2
        }
      ]
    },
    {
      "cell_type": "code",
      "metadata": {
        "id": "0SMcIMwFwqJ4",
        "colab_type": "code",
        "colab": {}
      },
      "source": [
        ""
      ],
      "execution_count": 0,
      "outputs": []
    }
  ]
}