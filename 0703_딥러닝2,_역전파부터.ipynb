{
  "nbformat": 4,
  "nbformat_minor": 0,
  "metadata": {
    "colab": {
      "name": "0703 딥러닝2, 역전파부터.ipynb",
      "version": "0.3.2",
      "provenance": [],
      "collapsed_sections": [],
      "include_colab_link": true
    },
    "kernelspec": {
      "name": "python3",
      "display_name": "Python 3"
    }
  },
  "cells": [
    {
      "cell_type": "markdown",
      "metadata": {
        "id": "view-in-github",
        "colab_type": "text"
      },
      "source": [
        "<a href=\"https://colab.research.google.com/github/topchaebol/006762/blob/master/0703_%EB%94%A5%EB%9F%AC%EB%8B%9D2%2C_%EC%97%AD%EC%A0%84%ED%8C%8C%EB%B6%80%ED%84%B0.ipynb\" target=\"_parent\"><img src=\"https://colab.research.google.com/assets/colab-badge.svg\" alt=\"Open In Colab\"/></a>"
      ]
    },
    {
      "cell_type": "code",
      "metadata": {
        "id": "T9Fknpxio0j5",
        "colab_type": "code",
        "colab": {}
      },
      "source": [
        ""
      ],
      "execution_count": 0,
      "outputs": []
    },
    {
      "cell_type": "markdown",
      "metadata": {
        "id": "7heS0M0wv1uj",
        "colab_type": "text"
      },
      "source": [
        "# 7. 멀티 레이어 신경망 구성"
      ]
    },
    {
      "cell_type": "code",
      "metadata": {
        "id": "jAgHstZNv4B6",
        "colab_type": "code",
        "colab": {
          "base_uri": "https://localhost:8080/",
          "height": 53
        },
        "outputId": "634daf67-632b-408a-eced-e0706002db68"
      },
      "source": [
        "import numpy as np\n",
        "def sigmoid(x):\n",
        "  return 1/(1+np.exp(-x))\n",
        "def sigmoid_prime(x): \n",
        "  return x * (1-x) \n",
        "input1 = np.array([np.arange(4), np.arange(4)])\n",
        "input1"
      ],
      "execution_count": 1,
      "outputs": [
        {
          "output_type": "execute_result",
          "data": {
            "text/plain": [
              "array([[0, 1, 2, 3],\n",
              "       [0, 1, 2, 3]])"
            ]
          },
          "metadata": {
            "tags": []
          },
          "execution_count": 1
        }
      ]
    },
    {
      "cell_type": "code",
      "metadata": {
        "id": "oWfvqLopwPeq",
        "colab_type": "code",
        "colab": {
          "base_uri": "https://localhost:8080/",
          "height": 53
        },
        "outputId": "7f27d135-0043-45a3-bc10-2eb6c891124c"
      },
      "source": [
        "# 4x3x2 레이어 구현\n",
        "n_records, n_inputs = input1.shape\n",
        "n_hidden = 3\n",
        "n_output = 2\n",
        "\n",
        "# 가중치 초기화\n",
        "weights_input_to_hidden = np.random.normal(0, n_inputs** -0.5, size=(n_inputs, n_hidden)) # 4 x 3\n",
        "weights_hidden_to_output = np.random.normal(0, n_inputs** -0.5, size=(n_hidden, n_output)) # 3 x 2\n",
        "\n",
        "# 네트워크 구현\n",
        "hidden1 = sigmoid(np.dot(input1, weights_input_to_hidden))\n",
        "output1 = sigmoid(np.dot(hidden1, weights_hidden_to_output))\n",
        "output1"
      ],
      "execution_count": 11,
      "outputs": [
        {
          "output_type": "execute_result",
          "data": {
            "text/plain": [
              "array([[0.56577493, 0.41092298],\n",
              "       [0.56577493, 0.41092298]])"
            ]
          },
          "metadata": {
            "tags": []
          },
          "execution_count": 11
        }
      ]
    },
    {
      "cell_type": "markdown",
      "metadata": {
        "id": "RT85mkc5zpOg",
        "colab_type": "text"
      },
      "source": [
        "# 역전파 알고리즘\n",
        "출력에서 오류발생시, 역으로 문제해결"
      ]
    },
    {
      "cell_type": "markdown",
      "metadata": {
        "id": "QVjDmVYD1UwE",
        "colab_type": "text"
      },
      "source": [
        "# 8. 히든 에러텀 구하기"
      ]
    },
    {
      "cell_type": "code",
      "metadata": {
        "id": "InqmflHh1WVh",
        "colab_type": "code",
        "colab": {
          "base_uri": "https://localhost:8080/",
          "height": 35
        },
        "outputId": "b7f64daa-09e8-4353-8f5e-24858ab4c7f0"
      },
      "source": [
        "input1 = np.array([0.1, 0.3])\n",
        "y = 1    # 실제 값\n",
        "\n",
        "# 가중치 초기화\n",
        "weights = np.array([0.4, -0.2])\n",
        "hidden_weight = 0.1\n",
        "\n",
        "# 네트워크 구현\n",
        "hidden_output = sigmoid(np.dot(input1, weights))\n",
        "output = sigmoid(np.dot(hidden_output, hidden_weight))\n",
        "print(\"y_hat:\", output)"
      ],
      "execution_count": 12,
      "outputs": [
        {
          "output_type": "stream",
          "text": [
            "y_hat: 0.512372477962617\n"
          ],
          "name": "stdout"
        }
      ]
    },
    {
      "cell_type": "code",
      "metadata": {
        "id": "jbUS8pt82DL1",
        "colab_type": "code",
        "colab": {
          "base_uri": "https://localhost:8080/",
          "height": 89
        },
        "outputId": "ceb4a8a7-954e-4985-8417-3c3733f59f34"
      },
      "source": [
        "learning_rate = 0.5\n",
        "err = y - output\n",
        "err_term = err * sigmoid_prime(output)\n",
        "print(\"err_term:\", err_term)\n",
        "\n",
        "hidden_err_term = hidden_weight * err_term * sigmoid_prime(output)\n",
        "print(\"hidden_err_term:\", hidden_err_term)\n",
        "\n",
        "del_w = learning_rate * err_term * hidden_output\n",
        "del_w_h = learning_rate * hidden_err_term * input1\n",
        "print(\"del_w:\", del_w)\n",
        "print(\"del_w_h:\", del_w_h)"
      ],
      "execution_count": 13,
      "outputs": [
        {
          "output_type": "stream",
          "text": [
            "err_term: 0.1218322353606694\n",
            "hidden_err_term: 0.0030439408979544076\n",
            "del_w: 0.030153488404045865\n",
            "del_w_h: [0.0001522  0.00045659]\n"
          ],
          "name": "stdout"
        }
      ]
    },
    {
      "cell_type": "code",
      "metadata": {
        "id": "PBVF3N2y20QK",
        "colab_type": "code",
        "colab": {}
      },
      "source": [
        ""
      ],
      "execution_count": 0,
      "outputs": []
    }
  ]
}